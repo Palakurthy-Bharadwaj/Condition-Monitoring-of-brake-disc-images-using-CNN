{
  "nbformat": 4,
  "nbformat_minor": 0,
  "metadata": {
    "colab": {
      "provenance": []
    },
    "kernelspec": {
      "name": "python3",
      "display_name": "Python 3"
    },
    "language_info": {
      "name": "python"
    }
  },
  "cells": [
    {
      "cell_type": "code",
      "execution_count": null,
      "metadata": {
        "id": "aM1YQ6qFJ3AR"
      },
      "outputs": [],
      "source": [
        "import cv2\n",
        "import numpy as np\n",
        "from keras.models import load_model"
      ]
    },
    {
      "cell_type": "code",
      "source": [
        "# Function to test an image\n",
        "def test_img(model_path, img):\n",
        "    # Load the model\n",
        "    model = load_model(model_path)\n",
        "    model.compile(loss='categorical_crossentropy', optimizer='rmsprop', metrics=[\"accuracy\"])\n",
        "\n",
        "    # Preprocess the test image\n",
        "    test_image = cv2.resize(img, (227, 227))\n",
        "    test_image = np.array(test_image).astype('float32') / 255.0\n",
        "    test_image = np.expand_dims(test_image, axis=0)\n",
        "\n",
        "    # Predict the class probabilities\n",
        "    predictions = model.predict(test_image)\n",
        "    print(\"Class probabilities:\", predictions)\n",
        "\n",
        "    # Get the predicted class index\n",
        "    predicted_class_index = np.argmax(predictions[0])\n",
        "    print(\"Predicted Class Index:\", predicted_class_index)"
      ],
      "metadata": {
        "id": "p6x8lyfsPvjv"
      },
      "execution_count": null,
      "outputs": []
    },
    {
      "cell_type": "code",
      "source": [
        "# Load and test an image\n",
        "img = cv2.imread(\"D:\\\\Videoframes\\\\Sector 1\\\\new_disc.jpg\")\n",
        "cv2.imshow(\"Image\", img)\n",
        "model_path = \"C:\\\\Users\\\\admin\\\\Desktop\\\\model_all.hdf5\"\n",
        "test_img(model_path, img)"
      ],
      "metadata": {
        "id": "TcHeMi9sPxNv"
      },
      "execution_count": null,
      "outputs": []
    }
  ]
}